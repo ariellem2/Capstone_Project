{
 "cells": [
  {
   "cell_type": "markdown",
   "metadata": {},
   "source": [
    "# Demo for Predicting Fit"
   ]
  },
  {
   "cell_type": "code",
   "execution_count": 1,
   "metadata": {},
   "outputs": [
    {
     "name": "stderr",
     "output_type": "stream",
     "text": [
      "/Users/ariellemiro/anaconda3/envs/dsi/lib/python3.7/site-packages/sklearn/externals/six.py:31: DeprecationWarning: The module is deprecated in version 0.21 and will be removed in version 0.23 since we've dropped support for Python 2.7. Please rely on the official version of six (https://pypi.org/project/six/).\n",
      "  \"(https://pypi.org/project/six/).\", DeprecationWarning)\n"
     ]
    }
   ],
   "source": [
    "#Data cleaning\n",
    "import numpy as np \n",
    "import pandas as pd\n",
    "\n",
    "#Modeling \n",
    "from sklearn.model_selection import train_test_split, GridSearchCV, cross_val_score, KFold\n",
    "from sklearn.feature_extraction.text import CountVectorizer, TfidfVectorizer\n",
    "from sklearn.metrics import mean_squared_error, r2_score, mean_absolute_error, f1_score\n",
    "from sklearn.preprocessing import StandardScaler\n",
    "from sklearn.pipeline import Pipeline\n",
    "\n",
    "from sklearn.linear_model import LogisticRegression\n",
    "from sklearn.neighbors import KNeighborsClassifier\n",
    "from sklearn.naive_bayes import MultinomialNB\n",
    "from sklearn.tree import DecisionTreeClassifier\n",
    "from sklearn.ensemble import RandomForestClassifier\n",
    "from sklearn.ensemble import ExtraTreesClassifier\n",
    "from sklearn.ensemble import BaggingClassifier\n",
    "from sklearn.ensemble import AdaBoostClassifier\n",
    "from sklearn import svm\n",
    "\n",
    "from ipywidgets import widgets, interact, interact_manual, fixed\n",
    "from IPython.display import display, clear_output, HTML\n",
    "from imblearn.over_sampling import SMOTE\n",
    "\n",
    "np.random.seed(42)\n",
    "\n",
    "#Warnings - to keep the notebook clean \n",
    "import warnings \n",
    "warnings.filterwarnings('ignore')\n",
    "pd.options.display.max_columns= 5000"
   ]
  },
  {
   "cell_type": "code",
   "execution_count": 2,
   "metadata": {},
   "outputs": [],
   "source": [
    "#Data cleaning\n",
    "import numpy as np \n",
    "import pandas as pd\n",
    "\n",
    "#Modeling \n",
    "from sklearn.model_selection import train_test_split, GridSearchCV, cross_val_score, KFold\n",
    "from sklearn.feature_extraction.text import CountVectorizer, TfidfVectorizer\n",
    "from sklearn.metrics import mean_squared_error, r2_score, mean_absolute_error, f1_score\n",
    "from sklearn.preprocessing import StandardScaler\n",
    "from sklearn.pipeline import Pipeline\n",
    "\n",
    "from sklearn.linear_model import LogisticRegression\n",
    "from sklearn.neighbors import KNeighborsClassifier\n",
    "from sklearn.naive_bayes import MultinomialNB\n",
    "from sklearn.tree import DecisionTreeClassifier\n",
    "from sklearn.ensemble import RandomForestClassifier\n",
    "from sklearn.ensemble import ExtraTreesClassifier\n",
    "from sklearn.ensemble import BaggingClassifier\n",
    "from sklearn.ensemble import AdaBoostClassifier\n",
    "from sklearn import svm\n",
    "\n",
    "from imblearn.over_sampling import SMOTE\n",
    "\n",
    "np.random.seed(42)\n",
    "\n",
    "#Warnings - to keep the notebook clean \n",
    "import warnings \n",
    "warnings.filterwarnings('ignore')\n",
    "pd.options.display.max_columns= 5000"
   ]
  },
  {
   "cell_type": "code",
   "execution_count": 3,
   "metadata": {},
   "outputs": [],
   "source": [
    "def on_predict_submit(incoming):\n",
    "    \n",
    "    # Insert values into dataframe\n",
    "    X_input = []\n",
    "    \n",
    "    X_input = pd.DataFrame(columns=['age','body_type','height','rating','rented_for','size','weight', 'category'])\n",
    "    \n",
    "    input_variables = [input_age.value, input_body_type.value, input_height.value, input_rating.value, \n",
    "                       input_rented_for.value, input_size.value, input_weight.value, input_category.value]\n",
    "    \n",
    "    X_input.loc[1] = [x for x in input_variables]\n",
    "    \n",
    "    map_list = ['body_type', 'rented_for', 'category']\n",
    "    \n",
    "    X_input = map_to_numeric(X_input, columns=map_list)\n",
    "    \n",
    "    \n",
    "    X_input = equalize_features(X_features, X_input)\n",
    "    \n",
    "    #the prediction\n",
    "    def fit_or_not():\n",
    "        if rf.predict(X_input)[0] == 0:\n",
    "            return 'Too Small'\n",
    "        elif rf.predict(X_input)[0] == 1:\n",
    "            return 'Fits true to size!'\n",
    "        elif rf.predict(X_input)[0] == 2:\n",
    "            return 'Too Large'\n",
    "    print(f\"Does the garment fit?: {fit_or_not()}\")"
   ]
  },
  {
   "cell_type": "code",
   "execution_count": 4,
   "metadata": {},
   "outputs": [
    {
     "data": {
      "application/vnd.jupyter.widget-view+json": {
       "model_id": "0e9a48ac60464a138b4b3f7df914de17",
       "version_major": 2,
       "version_minor": 0
      },
      "text/plain": [
       "FloatSlider(value=15.0, continuous_update=False, description='Age', max=91.0, min=15.0, readout_format='.1f', …"
      ]
     },
     "metadata": {},
     "output_type": "display_data"
    },
    {
     "data": {
      "application/vnd.jupyter.widget-view+json": {
       "model_id": "cd696ee5ccce4b4f97ccdf809dd0abd5",
       "version_major": 2,
       "version_minor": 0
      },
      "text/plain": [
       "FloatSlider(value=2.0, continuous_update=False, description='Rating', max=10.0, min=2.0, readout_format='.1f',…"
      ]
     },
     "metadata": {},
     "output_type": "display_data"
    },
    {
     "data": {
      "application/vnd.jupyter.widget-view+json": {
       "model_id": "b3a7cf2f37954b999f47e78abee2c9ca",
       "version_major": 2,
       "version_minor": 0
      },
      "text/plain": [
       "FloatSlider(value=0.0, continuous_update=False, description='Size', max=58.0, readout_format='.1f', step=1.0)"
      ]
     },
     "metadata": {},
     "output_type": "display_data"
    },
    {
     "data": {
      "application/vnd.jupyter.widget-view+json": {
       "model_id": "4052d715d1d14e4bb1a70928645fac2e",
       "version_major": 2,
       "version_minor": 0
      },
      "text/plain": [
       "FloatSlider(value=54.0, continuous_update=False, description='Height', max=76.0, min=54.0, readout_format='.1f…"
      ]
     },
     "metadata": {},
     "output_type": "display_data"
    },
    {
     "data": {
      "application/vnd.jupyter.widget-view+json": {
       "model_id": "844690e913fb4e2884bbc6bf75f8fd2c",
       "version_major": 2,
       "version_minor": 0
      },
      "text/plain": [
       "FloatSlider(value=50.0, continuous_update=False, description='Weight', max=285.0, min=50.0, readout_format='.1…"
      ]
     },
     "metadata": {},
     "output_type": "display_data"
    },
    {
     "data": {
      "application/vnd.jupyter.widget-view+json": {
       "model_id": "f50a6efaa8ab434eb08ae996a5c3ebf0",
       "version_major": 2,
       "version_minor": 0
      },
      "text/plain": [
       "ToggleButtons(description='Body Type', options=('hourglass', 'athletic', 'petite', 'pear', 'straight & narrow'…"
      ]
     },
     "metadata": {},
     "output_type": "display_data"
    },
    {
     "data": {
      "application/vnd.jupyter.widget-view+json": {
       "model_id": "22a882360bba4ec3a77ae5bb15d5977e",
       "version_major": 2,
       "version_minor": 0
      },
      "text/plain": [
       "ToggleButtons(description='Rented For', options=('wedding', 'formal affair', 'party', 'everyday', 'work', 'oth…"
      ]
     },
     "metadata": {},
     "output_type": "display_data"
    },
    {
     "data": {
      "application/vnd.jupyter.widget-view+json": {
       "model_id": "1cd31b0db6454b8b9b4c659b219e32cd",
       "version_major": 2,
       "version_minor": 0
      },
      "text/plain": [
       "ToggleButtons(description='Category', options=('dress', 'gown', 'sheath', 'jumpsuit', 'shift', 'top', 'maxi', …"
      ]
     },
     "metadata": {},
     "output_type": "display_data"
    },
    {
     "data": {
      "application/vnd.jupyter.widget-view+json": {
       "model_id": "ef4e95da92a04671b2b298a5f5b51fdc",
       "version_major": 2,
       "version_minor": 0
      },
      "text/plain": [
       "Button(description='Predict', icon='check', style=ButtonStyle(), tooltip='Predict')"
      ]
     },
     "metadata": {},
     "output_type": "display_data"
    },
    {
     "name": "stdout",
     "output_type": "stream",
     "text": [
      "Does the garment fit?: Fits true to size!\n",
      "Does the garment fit?: Fits true to size!\n",
      "Does the garment fit?: Fits true to size!\n",
      "Does the garment fit?: Fits true to size!\n",
      "Does the garment fit?: Fits true to size!\n",
      "Does the garment fit?: Fits true to size!\n",
      "Does the garment fit?: Fits true to size!\n",
      "Does the garment fit?: Fits true to size!\n",
      "Does the garment fit?: Fits true to size!\n",
      "Does the garment fit?: Fits true to size!\n",
      "Does the garment fit?: Fits true to size!\n",
      "Does the garment fit?: Too Large\n"
     ]
    }
   ],
   "source": [
    "# Input age\n",
    "input_age = widgets.FloatSlider(\n",
    "    value=0,\n",
    "    min=15,\n",
    "    max=91,\n",
    "    step=1,\n",
    "    description='Age',\n",
    "    disabled=False,\n",
    "    continuous_update=False,\n",
    "    orientation='horizontal',\n",
    "    readout=True,\n",
    "    readout_format='.1f',\n",
    ")\n",
    "display(input_age)\n",
    "\n",
    "\n",
    "# Input rating\n",
    "input_rating = widgets.FloatSlider(\n",
    "    value=0,\n",
    "    min=2,\n",
    "    max=10,\n",
    "    step=1,\n",
    "    description='Rating',\n",
    "    disabled=False,\n",
    "    continuous_update=False,\n",
    "    orientation='horizontal',\n",
    "    readout=True,\n",
    "    readout_format='.1f',\n",
    ")\n",
    "display(input_rating)\n",
    "\n",
    "\n",
    "# Input size\n",
    "input_size = widgets.FloatSlider(\n",
    "    value=0,\n",
    "    min=0,\n",
    "    max=58,\n",
    "    step=1,\n",
    "    description='Size',\n",
    "    disabled=False,\n",
    "    continuous_update=False,\n",
    "    orientation='horizontal',\n",
    "    readout=True,\n",
    "    readout_format='.1f',\n",
    ")\n",
    "display(input_size)\n",
    "\n",
    "\n",
    "# Input height\n",
    "input_height = widgets.FloatSlider(\n",
    "    value=0,\n",
    "    min=54,\n",
    "    max=76,\n",
    "    step=0.5,\n",
    "    description='Height',\n",
    "    disabled=False,\n",
    "    continuous_update=False,\n",
    "    orientation='horizontal',\n",
    "    readout=True,\n",
    "    readout_format='.1f',\n",
    ")\n",
    "display(input_height)\n",
    "\n",
    "\n",
    "# Input weight\n",
    "input_weight = widgets.FloatSlider(\n",
    "    value=0,\n",
    "    min=50,\n",
    "    max=285,\n",
    "    step=0.5,\n",
    "    description='Weight',\n",
    "    disabled=False,\n",
    "    continuous_update=False,\n",
    "    orientation='horizontal',\n",
    "    readout=True,\n",
    "    readout_format='.1f',\n",
    ")\n",
    "display(input_weight)\n",
    "\n",
    "\n",
    "# Input body type\n",
    "body_type = ['hourglass', 'athletic', 'petite', 'pear', 'straight & narrow', 'full bust', 'apple']\n",
    "input_body_type = widgets.ToggleButtons(\n",
    "    options=body_type,\n",
    "    description='Body Type',\n",
    "    disabled=False,\n",
    "    button_style='',\n",
    "    tooltips=body_type\n",
    ")\n",
    "display(input_body_type)\n",
    "\n",
    "# Input rented for\n",
    "rented_for = ['wedding', 'formal affair', 'party', 'everyday', 'work', 'other', 'date', 'vacation']\n",
    "input_rented_for = widgets.ToggleButtons(\n",
    "    options=rented_for,\n",
    "    description='Rented For',\n",
    "    disabled=False,\n",
    "    button_style='',\n",
    "    tooltips=rented_for\n",
    ")\n",
    "display(input_rented_for)\n",
    "\n",
    "\n",
    "# Input category\n",
    "category = ['dress', 'gown', 'sheath', 'jumpsuit', 'shift', 'top', 'maxi', 'romper', 'jacket', 'mini', 'skirt',\n",
    "            'sweater', 'coat', 'blazer', 'shirtdress', 'blouse', 'down', 'pants', 'shirt', 'vest', 'culottes',\n",
    "            'leggings', 'cardigan', 'frock', 'tunic', 'bomber', 'tank', 'suit', 'sweatshirt', 'print', 'cape',\n",
    "            'trousers', 'pullover', 'midi', 'tee', 'peacoat', 'poncho', 'kimono', 'turtleneck', 'parka', 'tight',\n",
    "            'knit', 'duster', 'kaftan', 'hoodie', 'overalls', 'crewneck', 'sweatpants', 'henley', 'jogger',\n",
    "            'trench', 'cami']\n",
    "input_category = widgets.ToggleButtons(\n",
    "    options=category,\n",
    "    description='Category',\n",
    "    disabled=False,\n",
    "    button_style='',\n",
    "    tooltips=category\n",
    ")\n",
    "display(input_category)\n",
    "\n",
    "\n",
    "# Input Predict\n",
    "input_predict = widgets.Button(\n",
    "    value=False,\n",
    "    description='Predict',\n",
    "    disabled=False,\n",
    "    button_style='',\n",
    "    tooltip='Predict',\n",
    "    icon='check'\n",
    ")\n",
    "display(input_predict)\n",
    "input_predict.on_click(on_predict_submit)"
   ]
  },
  {
   "cell_type": "code",
   "execution_count": 5,
   "metadata": {},
   "outputs": [],
   "source": [
    "def equalize_features(model_features, new_df):\n",
    "    new_features = new_df.columns.tolist()\n",
    "    if set(model_features) != set(new_features):\n",
    "        missing_cols = set(model_features) - set(new_features)\n",
    "        for col in missing_cols:\n",
    "            new_df[col] = 0\n",
    "    \n",
    "    if set(new_features) != set(model_features):\n",
    "        missing_cols = set(new_features) - set(model_features)\n",
    "        new_df = new_df.drop(missing_cols, axis=1)\n",
    "    \n",
    "    new_df = new_df[model_features]\n",
    "    return new_df"
   ]
  },
  {
   "cell_type": "code",
   "execution_count": 6,
   "metadata": {},
   "outputs": [],
   "source": [
    "# Map values to numeric\n",
    "def map_to_numeric(X_input, columns):\n",
    "    for column in columns:\n",
    "        map_dict = get_map_dict(column)\n",
    "        X_input[column] = X_input[column].map(map_dict)\n",
    "    return X_input\n",
    "    \n",
    "def get_map_dict(feature):\n",
    "    map_feature = {\n",
    "    'body_type': {\n",
    "        'hourglass': 1, \n",
    "        'athletic': 2, \n",
    "        'petite': 3, \n",
    "        'pear': 4, \n",
    "        'straight & narrow': 5, \n",
    "        'full bust': 6, \n",
    "        'apple': 7}, \n",
    "    'rented_for': {\n",
    "        'wedding': 1,\n",
    "        'formal affair': 2, \n",
    "        'party': 3, \n",
    "        'everyday': 4, \n",
    "        'work': 5, \n",
    "        'other': 6, \n",
    "        'date': 7, \n",
    "        'vacation': 8},\n",
    "    'category': {\n",
    "        'dress': 1, \n",
    "        'gown': 2, \n",
    "        'sheath': 3, \n",
    "        'jumpsuit': 4, \n",
    "        'shift': 5, \n",
    "        'top': 6, \n",
    "        'maxi': 7, \n",
    "        'romper': 8, \n",
    "        'jacket': 9,\n",
    "        'mini': 10,\n",
    "        'skirt': 11,\n",
    "        'sweater': 12, \n",
    "        'coat': 13, \n",
    "        'blazer': 14, \n",
    "        'shirtdress': 15, \n",
    "        'blouse': 16, \n",
    "        'down': 17, \n",
    "        'pants': 18, \n",
    "        'shirt': 19, \n",
    "        'vest': 20, \n",
    "        'culottes': 21,\n",
    "        'leggings': 22, \n",
    "        'cardigan': 23, \n",
    "        'frock': 24, \n",
    "        'tunic': 25, \n",
    "        'bomber': 26, \n",
    "        'tank': 27, \n",
    "        'suit': 28, \n",
    "        'sweatshirt': 29, \n",
    "        'print': 30, \n",
    "        'cape': 31,\n",
    "        'trousers': 32, \n",
    "        'pullover': 33, \n",
    "        'midi': 34, \n",
    "        'tee': 35, \n",
    "        'peacoat': 36, \n",
    "        'poncho': 37, \n",
    "        'kimono': 38, \n",
    "        'turtleneck': 39, \n",
    "        'parka': 40, \n",
    "        'tight': 41,\n",
    "        'knit': 42, \n",
    "        'duster': 43, \n",
    "        'kaftan': 44,\n",
    "        'hoodie': 45, \n",
    "        'overalls': 46, \n",
    "        'crewneck': 47, \n",
    "        'sweatpants': 48, \n",
    "        'henley': 49, \n",
    "        'jogger': 50,\n",
    "        'trench': 51,\n",
    "        'cami': 52}\n",
    "    }\n",
    "    return map_feature[feature]"
   ]
  },
  {
   "cell_type": "code",
   "execution_count": 7,
   "metadata": {},
   "outputs": [],
   "source": [
    "# Function to run different model types\n",
    "\n",
    "def fit__and_evaluate(X, y, model_name='lr', model_type=LogisticRegression()):\n",
    "    \n",
    "    # Pipeline for pre-processing\n",
    "    pipe = Pipeline([\n",
    "        ('scale', StandardScaler()),\n",
    "        (model_name, model_type)\n",
    "    ])\n",
    "    # Fit the model \n",
    "    model = pipe.fit(X, y)\n",
    "    \n",
    "    #Score\n",
    "    score = model.score(X, y)\n",
    "                   \n",
    "    # Print attributes\n",
    "    print(f\"For model: {model_type}\")\n",
    "    print(f\"Score: {score}\")\n",
    "    \n",
    "    return model"
   ]
  },
  {
   "cell_type": "code",
   "execution_count": 8,
   "metadata": {},
   "outputs": [],
   "source": [
    "\n",
    "def evaluate_model(model, X_train, X_test, y_train, y_test):\n",
    "    # Evaluate training data\n",
    "    preds_train = model.predict(X_train)\n",
    "    kf_train = KFold(shuffle=True, random_state=42)\n",
    "    cvs_train = cross_val_score(model, X_train, y_train, cv=kf_train).mean()\n",
    "    score_train = model.score(X_train, y_train)\n",
    "    rmse_train = np.sqrt(mean_squared_error(y_train, preds_train))\n",
    "\n",
    "    # Evaluate testing data\n",
    "    preds_test = model.predict(X_test)\n",
    "    kf_test = KFold(shuffle=True, random_state=42)\n",
    "    cvs_test = cross_val_score(model, X_test, y_test, cv=kf_test).mean()\n",
    "    score_test = model.score(X_test, y_test)\n",
    "    rmse_test = np.sqrt(mean_squared_error(y_test, preds_test))\n",
    "    \n",
    "    # Print results\n",
    "    print(f'cvs mean score on training data: {cvs_train:.4f}')\n",
    "    print(f'cvs mean score on testing data: {cvs_test:.4f}')\n",
    "    \n",
    "    print(f'Train Score: {score_train:.4f}')\n",
    "    print(f'Test Score: {score_test:.4f}')\n",
    "    \n",
    "    print(f'Train RMSE: {rmse_train:.4f}')\n",
    "    print(f'Test RMSE: {rmse_test:.4f}')\n"
   ]
  },
  {
   "cell_type": "markdown",
   "metadata": {},
   "source": [
    "# Model"
   ]
  },
  {
   "cell_type": "code",
   "execution_count": 9,
   "metadata": {},
   "outputs": [
    {
     "data": {
      "text/plain": [
       "Index(['age', 'bust_size', 'fit', 'height', 'item_id', 'rating', 'review_date',\n",
       "       'review_summary', 'review_text', 'size', 'user_id', 'weight',\n",
       "       'body_type_apple', 'body_type_athletic', 'body_type_full_bust',\n",
       "       'body_type_hourglass', 'body_type_pear', 'body_type_petite',\n",
       "       'body_type_straight_narrow', 'rented_for_date', 'rented_for_everyday',\n",
       "       'rented_for_formal_affair', 'rented_for_other', 'rented_for_party',\n",
       "       'rented_for_vacation', 'rented_for_wedding', 'rented_for_work',\n",
       "       'category_blazer', 'category_blouse', 'category_bomber',\n",
       "       'category_cami', 'category_cape', 'category_cardigan', 'category_coat',\n",
       "       'category_crewneck', 'category_culottes', 'category_down',\n",
       "       'category_dress', 'category_duster', 'category_frock', 'category_gown',\n",
       "       'category_henley', 'category_hoodie', 'category_jacket',\n",
       "       'category_jogger', 'category_jumpsuit', 'category_kaftan',\n",
       "       'category_kimono', 'category_knit', 'category_leggings',\n",
       "       'category_maxi', 'category_midi', 'category_mini', 'category_overalls',\n",
       "       'category_pants', 'category_parka', 'category_peacoat',\n",
       "       'category_poncho', 'category_print', 'category_pullover',\n",
       "       'category_romper', 'category_sheath', 'category_shift',\n",
       "       'category_shirt', 'category_shirtdress', 'category_skirt',\n",
       "       'category_suit', 'category_sweater', 'category_sweatpants',\n",
       "       'category_sweatshirt', 'category_tank', 'category_tee',\n",
       "       'category_tight', 'category_top', 'category_trench',\n",
       "       'category_trousers', 'category_tunic', 'category_turtleneck',\n",
       "       'category_vest'],\n",
       "      dtype='object')"
      ]
     },
     "execution_count": 9,
     "metadata": {},
     "output_type": "execute_result"
    }
   ],
   "source": [
    "df = pd.read_csv('./rent_the_runway_cleaned_with_dummies.csv')\n",
    "df.columns"
   ]
  },
  {
   "cell_type": "code",
   "execution_count": 10,
   "metadata": {},
   "outputs": [],
   "source": [
    "numeric_cols = df.select_dtypes(include=['int64', 'float64']).drop(columns= 'fit')"
   ]
  },
  {
   "cell_type": "code",
   "execution_count": 11,
   "metadata": {},
   "outputs": [],
   "source": [
    "X = numeric_cols\n",
    "y = df['fit']"
   ]
  },
  {
   "cell_type": "code",
   "execution_count": 12,
   "metadata": {},
   "outputs": [],
   "source": [
    "#Train Test Split \n",
    "X_train, X_test, y_train, y_test = train_test_split(X, y, random_state =42)"
   ]
  },
  {
   "cell_type": "code",
   "execution_count": 13,
   "metadata": {},
   "outputs": [],
   "source": [
    "# sm_ = SMOTE(sampling_strategy= 1, kind ='regular', random_state=42)\n",
    "# X_resample, y_resample = sm.fit_sample(X, y.ravel())"
   ]
  },
  {
   "cell_type": "code",
   "execution_count": 14,
   "metadata": {},
   "outputs": [],
   "source": [
    "# from imblearn.over_sampling import SMOTE\n",
    "\n",
    "# print(\"Before OverSampling, counts of label '2': {}\".format(sum(y_train==2)))\n",
    "# print(\"Before OverSampling, counts of label '1': {}\".format(sum(y_train==1)))\n",
    "# print(\"Before OverSampling, counts of label '0': {} \\n\".format(sum(y_train==0)))\n",
    "\n",
    "# sm = SMOTE(random_state=42)\n",
    "\n",
    "# X_train_res, y_train_res = sm.fit_sample(X_train, y_train.ravel())\n",
    "\n",
    "# print('After OverSampling, the shape of train_X: {}'.format(X_train_res.shape))\n",
    "# print('After OverSampling, the shape of train_y: {} \\n'.format(y_train_res.shape))\n",
    "\n",
    "# print(\"After OverSampling, counts of label '2': {}\".format(sum(y_train_res==2)))\n",
    "# print(\"After OverSampling, counts of label '1': {}\".format(sum(y_train_res==1)))\n",
    "# print(\"After OverSampling, counts of label '0': {}\".format(sum(y_train_res==0)))"
   ]
  },
  {
   "cell_type": "code",
   "execution_count": 16,
   "metadata": {
    "scrolled": true
   },
   "outputs": [
    {
     "name": "stdout",
     "output_type": "stream",
     "text": [
      "For model: RandomForestClassifier(bootstrap=True, class_weight=None, criterion='gini',\n",
      "                       max_depth=None, max_features='auto', max_leaf_nodes=None,\n",
      "                       min_impurity_decrease=0.0, min_impurity_split=None,\n",
      "                       min_samples_leaf=1, min_samples_split=2,\n",
      "                       min_weight_fraction_leaf=0.0, n_estimators=10,\n",
      "                       n_jobs=None, oob_score=False, random_state=None,\n",
      "                       verbose=0, warm_start=False)\n",
      "Score: 0.9808139269926628\n"
     ]
    }
   ],
   "source": [
    "rf = fit__and_evaluate(X_train, y_train, model_name='rf', model_type=RandomForestClassifier())"
   ]
  },
  {
   "cell_type": "code",
   "execution_count": 18,
   "metadata": {
    "scrolled": true
   },
   "outputs": [
    {
     "name": "stdout",
     "output_type": "stream",
     "text": [
      "cvs mean score on training data: 0.7116\n",
      "cvs mean score on testing data: 0.7100\n",
      "Train Score: 0.9808\n",
      "Test Score: 0.7070\n",
      "Train RMSE: 0.1434\n",
      "Test RMSE: 0.5772\n"
     ]
    }
   ],
   "source": [
    "evaluate_model(rf, X_train, X_test, y_train, y_test)"
   ]
  },
  {
   "cell_type": "code",
   "execution_count": 19,
   "metadata": {},
   "outputs": [],
   "source": [
    "X_features = X.columns.tolist()"
   ]
  },
  {
   "cell_type": "code",
   "execution_count": null,
   "metadata": {},
   "outputs": [],
   "source": []
  }
 ],
 "metadata": {
  "kernelspec": {
   "display_name": "DSI",
   "language": "python",
   "name": "dsi"
  },
  "language_info": {
   "codemirror_mode": {
    "name": "ipython",
    "version": 3
   },
   "file_extension": ".py",
   "mimetype": "text/x-python",
   "name": "python",
   "nbconvert_exporter": "python",
   "pygments_lexer": "ipython3",
   "version": "3.7.2"
  }
 },
 "nbformat": 4,
 "nbformat_minor": 2
}
